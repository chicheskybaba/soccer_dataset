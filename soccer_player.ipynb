{
 "cells": [
  {
   "cell_type": "markdown",
   "metadata": {
    "_uuid": "394626b22877811ebfc7071f68646563d08aeac6"
   },
   "source": [
    "## **1. SOCCER PLAYERS** <a id=\"1\"></a>"
   ]
  },
  {
   "cell_type": "markdown",
   "metadata": {},
   "source": [
    "<a><img style=\"float: right;\" src=\"https://www.linkpicture.com/q/nigel-msipa-t5ny_JdGxJc-unsplash.jpg\" width=\"300\" /></a>\n",
    " \n",
    "\n"
   ]
  },
  {
   "cell_type": "markdown",
   "metadata": {},
   "source": [
    "- Dataset source: https://www.kaggle.com/datasets/antoinekrajnc/soccer-players-statistics"
   ]
  },
  {
   "cell_type": "markdown",
   "metadata": {},
   "source": [
    "### 1.2 Notebook Preparation <a id=\"1.2\"></a>"
   ]
  },
  {
   "cell_type": "markdown",
   "metadata": {},
   "source": [
    "This part of the notebook deals with the relevant library import and visual configuration."
   ]
  },
  {
   "cell_type": "code",
   "execution_count": 98,
   "metadata": {
    "_kg_hide-input": true
   },
   "outputs": [],
   "source": [
    "# Import libraries\n",
    "\n",
    "import pandas as pd\n",
    "import numpy as np \n",
    "from scipy import stats\n",
    "\n",
    "import matplotlib.pyplot as plt\n",
    "import seaborn as sns\n",
    "import plotly\n",
    "import plotly.graph_objects as go\n",
    "import plotly.express as px\n",
    "\n",
    "from sklearn.preprocessing import StandardScaler\n",
    "\n",
    "from sklearn.cluster import KMeans\n",
    "from scipy.cluster.hierarchy import linkage\n",
    "from scipy.cluster.hierarchy import dendrogram\n",
    "from sklearn.metrics import silhouette_samples, silhouette_score"
   ]
  },
  {
   "cell_type": "code",
   "execution_count": 99,
   "metadata": {
    "_kg_hide-input": true
   },
   "outputs": [],
   "source": [
    "# Set notebook options\n",
    "\n",
    "pd.set_option('precision',2)\n",
    "pd.options.display.max_columns = 30\n",
    "\n",
    "import warnings\n",
    "warnings.filterwarnings(\"ignore\")"
   ]
  },
  {
   "cell_type": "markdown",
   "metadata": {
    "_uuid": "a95a91a1a31bcd4f79200c6ad21eb0163a9e780c"
   },
   "source": [
    "## **2. Data Preparation** <a id=\"2\"></a>"
   ]
  },
  {
   "cell_type": "markdown",
   "metadata": {},
   "source": [
    "The below section provides an initial exploration of the data."
   ]
  },
  {
   "cell_type": "code",
   "execution_count": 100,
   "metadata": {
    "_kg_hide-input": true,
    "_uuid": "01bb8d38ec581110eb3954352317ef9149f9d787"
   },
   "outputs": [
    {
     "data": {
      "text/html": [
       "<div>\n",
       "<style scoped>\n",
       "    .dataframe tbody tr th:only-of-type {\n",
       "        vertical-align: middle;\n",
       "    }\n",
       "\n",
       "    .dataframe tbody tr th {\n",
       "        vertical-align: top;\n",
       "    }\n",
       "\n",
       "    .dataframe thead th {\n",
       "        text-align: right;\n",
       "    }\n",
       "</style>\n",
       "<table border=\"1\" class=\"dataframe\">\n",
       "  <thead>\n",
       "    <tr style=\"text-align: right;\">\n",
       "      <th></th>\n",
       "      <th>Nationality</th>\n",
       "      <th>National_Position</th>\n",
       "      <th>National_Kit</th>\n",
       "      <th>Club</th>\n",
       "      <th>Club_Position</th>\n",
       "      <th>Club_Kit</th>\n",
       "      <th>Club_Joining</th>\n",
       "      <th>Contract_Expiry</th>\n",
       "      <th>Rating</th>\n",
       "      <th>Height</th>\n",
       "      <th>Weight</th>\n",
       "      <th>Preffered_Foot</th>\n",
       "      <th>Birth_Date</th>\n",
       "      <th>Age</th>\n",
       "      <th>Preffered_Position</th>\n",
       "      <th>...</th>\n",
       "      <th>Agility</th>\n",
       "      <th>Jumping</th>\n",
       "      <th>Heading</th>\n",
       "      <th>Shot_Power</th>\n",
       "      <th>Finishing</th>\n",
       "      <th>Long_Shots</th>\n",
       "      <th>Curve</th>\n",
       "      <th>Freekick_Accuracy</th>\n",
       "      <th>Penalties</th>\n",
       "      <th>Volleys</th>\n",
       "      <th>GK_Positioning</th>\n",
       "      <th>GK_Diving</th>\n",
       "      <th>GK_Kicking</th>\n",
       "      <th>GK_Handling</th>\n",
       "      <th>GK_Reflexes</th>\n",
       "    </tr>\n",
       "    <tr>\n",
       "      <th>Name</th>\n",
       "      <th></th>\n",
       "      <th></th>\n",
       "      <th></th>\n",
       "      <th></th>\n",
       "      <th></th>\n",
       "      <th></th>\n",
       "      <th></th>\n",
       "      <th></th>\n",
       "      <th></th>\n",
       "      <th></th>\n",
       "      <th></th>\n",
       "      <th></th>\n",
       "      <th></th>\n",
       "      <th></th>\n",
       "      <th></th>\n",
       "      <th></th>\n",
       "      <th></th>\n",
       "      <th></th>\n",
       "      <th></th>\n",
       "      <th></th>\n",
       "      <th></th>\n",
       "      <th></th>\n",
       "      <th></th>\n",
       "      <th></th>\n",
       "      <th></th>\n",
       "      <th></th>\n",
       "      <th></th>\n",
       "      <th></th>\n",
       "      <th></th>\n",
       "      <th></th>\n",
       "      <th></th>\n",
       "    </tr>\n",
       "  </thead>\n",
       "  <tbody>\n",
       "    <tr>\n",
       "      <th>Cristiano Ronaldo</th>\n",
       "      <td>Portugal</td>\n",
       "      <td>LS</td>\n",
       "      <td>7.0</td>\n",
       "      <td>Real Madrid</td>\n",
       "      <td>LW</td>\n",
       "      <td>7.0</td>\n",
       "      <td>07/01/2009</td>\n",
       "      <td>2021.0</td>\n",
       "      <td>94</td>\n",
       "      <td>185 cm</td>\n",
       "      <td>80 kg</td>\n",
       "      <td>Right</td>\n",
       "      <td>02/05/1985</td>\n",
       "      <td>32</td>\n",
       "      <td>LW/ST</td>\n",
       "      <td>...</td>\n",
       "      <td>90</td>\n",
       "      <td>95</td>\n",
       "      <td>85</td>\n",
       "      <td>92</td>\n",
       "      <td>93</td>\n",
       "      <td>90</td>\n",
       "      <td>81</td>\n",
       "      <td>76</td>\n",
       "      <td>85</td>\n",
       "      <td>88</td>\n",
       "      <td>14</td>\n",
       "      <td>7</td>\n",
       "      <td>15</td>\n",
       "      <td>11</td>\n",
       "      <td>11</td>\n",
       "    </tr>\n",
       "    <tr>\n",
       "      <th>Lionel Messi</th>\n",
       "      <td>Argentina</td>\n",
       "      <td>RW</td>\n",
       "      <td>10.0</td>\n",
       "      <td>FC Barcelona</td>\n",
       "      <td>RW</td>\n",
       "      <td>10.0</td>\n",
       "      <td>07/01/2004</td>\n",
       "      <td>2018.0</td>\n",
       "      <td>93</td>\n",
       "      <td>170 cm</td>\n",
       "      <td>72 kg</td>\n",
       "      <td>Left</td>\n",
       "      <td>06/24/1987</td>\n",
       "      <td>29</td>\n",
       "      <td>RW</td>\n",
       "      <td>...</td>\n",
       "      <td>90</td>\n",
       "      <td>68</td>\n",
       "      <td>71</td>\n",
       "      <td>85</td>\n",
       "      <td>95</td>\n",
       "      <td>88</td>\n",
       "      <td>89</td>\n",
       "      <td>90</td>\n",
       "      <td>74</td>\n",
       "      <td>85</td>\n",
       "      <td>14</td>\n",
       "      <td>6</td>\n",
       "      <td>15</td>\n",
       "      <td>11</td>\n",
       "      <td>8</td>\n",
       "    </tr>\n",
       "    <tr>\n",
       "      <th>Neymar</th>\n",
       "      <td>Brazil</td>\n",
       "      <td>LW</td>\n",
       "      <td>10.0</td>\n",
       "      <td>FC Barcelona</td>\n",
       "      <td>LW</td>\n",
       "      <td>11.0</td>\n",
       "      <td>07/01/2013</td>\n",
       "      <td>2021.0</td>\n",
       "      <td>92</td>\n",
       "      <td>174 cm</td>\n",
       "      <td>68 kg</td>\n",
       "      <td>Right</td>\n",
       "      <td>02/05/1992</td>\n",
       "      <td>25</td>\n",
       "      <td>LW</td>\n",
       "      <td>...</td>\n",
       "      <td>96</td>\n",
       "      <td>61</td>\n",
       "      <td>62</td>\n",
       "      <td>78</td>\n",
       "      <td>89</td>\n",
       "      <td>77</td>\n",
       "      <td>79</td>\n",
       "      <td>84</td>\n",
       "      <td>81</td>\n",
       "      <td>83</td>\n",
       "      <td>15</td>\n",
       "      <td>9</td>\n",
       "      <td>15</td>\n",
       "      <td>9</td>\n",
       "      <td>11</td>\n",
       "    </tr>\n",
       "    <tr>\n",
       "      <th>Luis Suárez</th>\n",
       "      <td>Uruguay</td>\n",
       "      <td>LS</td>\n",
       "      <td>9.0</td>\n",
       "      <td>FC Barcelona</td>\n",
       "      <td>ST</td>\n",
       "      <td>9.0</td>\n",
       "      <td>07/11/2014</td>\n",
       "      <td>2021.0</td>\n",
       "      <td>92</td>\n",
       "      <td>182 cm</td>\n",
       "      <td>85 kg</td>\n",
       "      <td>Right</td>\n",
       "      <td>01/24/1987</td>\n",
       "      <td>30</td>\n",
       "      <td>ST</td>\n",
       "      <td>...</td>\n",
       "      <td>86</td>\n",
       "      <td>69</td>\n",
       "      <td>77</td>\n",
       "      <td>87</td>\n",
       "      <td>94</td>\n",
       "      <td>86</td>\n",
       "      <td>86</td>\n",
       "      <td>84</td>\n",
       "      <td>85</td>\n",
       "      <td>88</td>\n",
       "      <td>33</td>\n",
       "      <td>27</td>\n",
       "      <td>31</td>\n",
       "      <td>25</td>\n",
       "      <td>37</td>\n",
       "    </tr>\n",
       "    <tr>\n",
       "      <th>Manuel Neuer</th>\n",
       "      <td>Germany</td>\n",
       "      <td>GK</td>\n",
       "      <td>1.0</td>\n",
       "      <td>FC Bayern</td>\n",
       "      <td>GK</td>\n",
       "      <td>1.0</td>\n",
       "      <td>07/01/2011</td>\n",
       "      <td>2021.0</td>\n",
       "      <td>92</td>\n",
       "      <td>193 cm</td>\n",
       "      <td>92 kg</td>\n",
       "      <td>Right</td>\n",
       "      <td>03/27/1986</td>\n",
       "      <td>31</td>\n",
       "      <td>GK</td>\n",
       "      <td>...</td>\n",
       "      <td>52</td>\n",
       "      <td>78</td>\n",
       "      <td>25</td>\n",
       "      <td>25</td>\n",
       "      <td>13</td>\n",
       "      <td>16</td>\n",
       "      <td>14</td>\n",
       "      <td>11</td>\n",
       "      <td>47</td>\n",
       "      <td>11</td>\n",
       "      <td>91</td>\n",
       "      <td>89</td>\n",
       "      <td>95</td>\n",
       "      <td>90</td>\n",
       "      <td>89</td>\n",
       "    </tr>\n",
       "  </tbody>\n",
       "</table>\n",
       "<p>5 rows × 52 columns</p>\n",
       "</div>"
      ],
      "text/plain": [
       "                  Nationality National_Position  National_Kit          Club  \\\n",
       "Name                                                                          \n",
       "Cristiano Ronaldo    Portugal                LS           7.0   Real Madrid   \n",
       "Lionel Messi        Argentina                RW          10.0  FC Barcelona   \n",
       "Neymar                 Brazil                LW          10.0  FC Barcelona   \n",
       "Luis Suárez           Uruguay                LS           9.0  FC Barcelona   \n",
       "Manuel Neuer          Germany                GK           1.0     FC Bayern   \n",
       "\n",
       "                  Club_Position  Club_Kit Club_Joining  Contract_Expiry  \\\n",
       "Name                                                                      \n",
       "Cristiano Ronaldo            LW       7.0   07/01/2009           2021.0   \n",
       "Lionel Messi                 RW      10.0   07/01/2004           2018.0   \n",
       "Neymar                       LW      11.0   07/01/2013           2021.0   \n",
       "Luis Suárez                  ST       9.0   07/11/2014           2021.0   \n",
       "Manuel Neuer                 GK       1.0   07/01/2011           2021.0   \n",
       "\n",
       "                   Rating  Height Weight Preffered_Foot  Birth_Date  Age  \\\n",
       "Name                                                                       \n",
       "Cristiano Ronaldo      94  185 cm  80 kg          Right  02/05/1985   32   \n",
       "Lionel Messi           93  170 cm  72 kg           Left  06/24/1987   29   \n",
       "Neymar                 92  174 cm  68 kg          Right  02/05/1992   25   \n",
       "Luis Suárez            92  182 cm  85 kg          Right  01/24/1987   30   \n",
       "Manuel Neuer           92  193 cm  92 kg          Right  03/27/1986   31   \n",
       "\n",
       "                  Preffered_Position  ... Agility  Jumping  Heading  \\\n",
       "Name                                  ...                             \n",
       "Cristiano Ronaldo              LW/ST  ...      90       95       85   \n",
       "Lionel Messi                      RW  ...      90       68       71   \n",
       "Neymar                            LW  ...      96       61       62   \n",
       "Luis Suárez                       ST  ...      86       69       77   \n",
       "Manuel Neuer                      GK  ...      52       78       25   \n",
       "\n",
       "                   Shot_Power  Finishing  Long_Shots  Curve  \\\n",
       "Name                                                          \n",
       "Cristiano Ronaldo          92         93          90     81   \n",
       "Lionel Messi               85         95          88     89   \n",
       "Neymar                     78         89          77     79   \n",
       "Luis Suárez                87         94          86     86   \n",
       "Manuel Neuer               25         13          16     14   \n",
       "\n",
       "                   Freekick_Accuracy  Penalties  Volleys  GK_Positioning  \\\n",
       "Name                                                                       \n",
       "Cristiano Ronaldo                 76         85       88              14   \n",
       "Lionel Messi                      90         74       85              14   \n",
       "Neymar                            84         81       83              15   \n",
       "Luis Suárez                       84         85       88              33   \n",
       "Manuel Neuer                      11         47       11              91   \n",
       "\n",
       "                   GK_Diving  GK_Kicking  GK_Handling  GK_Reflexes  \n",
       "Name                                                                \n",
       "Cristiano Ronaldo          7          15           11           11  \n",
       "Lionel Messi               6          15           11            8  \n",
       "Neymar                     9          15            9           11  \n",
       "Luis Suárez               27          31           25           37  \n",
       "Manuel Neuer              89          95           90           89  \n",
       "\n",
       "[5 rows x 52 columns]"
      ]
     },
     "execution_count": 100,
     "metadata": {},
     "output_type": "execute_result"
    }
   ],
   "source": [
    "# Import the data as a DataFrame and check first 5 rows\n",
    "\n",
    "df = pd.read_csv('soccer.csv', index_col=0)\n",
    "\n",
    "df.head(5)"
   ]
  },
  {
   "cell_type": "code",
   "execution_count": 101,
   "metadata": {
    "_kg_hide-input": true,
    "_uuid": "38e354a2a8f38972e9eea009bfeaf62e29ca902a"
   },
   "outputs": [
    {
     "name": "stdout",
     "output_type": "stream",
     "text": [
      "<class 'pandas.core.frame.DataFrame'>\n",
      "Index: 17588 entries, Cristiano Ronaldo to Barry Richardson\n",
      "Data columns (total 52 columns):\n",
      " #   Column              Non-Null Count  Dtype  \n",
      "---  ------              --------------  -----  \n",
      " 0   Nationality         17588 non-null  object \n",
      " 1   National_Position   1075 non-null   object \n",
      " 2   National_Kit        1075 non-null   float64\n",
      " 3   Club                17588 non-null  object \n",
      " 4   Club_Position       17587 non-null  object \n",
      " 5   Club_Kit            17587 non-null  float64\n",
      " 6   Club_Joining        17587 non-null  object \n",
      " 7   Contract_Expiry     17587 non-null  float64\n",
      " 8   Rating              17588 non-null  int64  \n",
      " 9   Height              17588 non-null  object \n",
      " 10  Weight              17588 non-null  object \n",
      " 11  Preffered_Foot      17588 non-null  object \n",
      " 12  Birth_Date          17588 non-null  object \n",
      " 13  Age                 17588 non-null  int64  \n",
      " 14  Preffered_Position  17588 non-null  object \n",
      " 15  Work_Rate           17588 non-null  object \n",
      " 16  Weak_foot           17588 non-null  int64  \n",
      " 17  Skill_Moves         17588 non-null  int64  \n",
      " 18  Ball_Control        17588 non-null  int64  \n",
      " 19  Dribbling           17588 non-null  int64  \n",
      " 20  Marking             17588 non-null  int64  \n",
      " 21  Sliding_Tackle      17588 non-null  int64  \n",
      " 22  Standing_Tackle     17588 non-null  int64  \n",
      " 23  Aggression          17588 non-null  int64  \n",
      " 24  Reactions           17588 non-null  int64  \n",
      " 25  Attacking_Position  17588 non-null  int64  \n",
      " 26  Interceptions       17588 non-null  int64  \n",
      " 27  Vision              17588 non-null  int64  \n",
      " 28  Composure           17588 non-null  int64  \n",
      " 29  Crossing            17588 non-null  int64  \n",
      " 30  Short_Pass          17588 non-null  int64  \n",
      " 31  Long_Pass           17588 non-null  int64  \n",
      " 32  Acceleration        17588 non-null  int64  \n",
      " 33  Speed               17588 non-null  int64  \n",
      " 34  Stamina             17588 non-null  int64  \n",
      " 35  Strength            17588 non-null  int64  \n",
      " 36  Balance             17588 non-null  int64  \n",
      " 37  Agility             17588 non-null  int64  \n",
      " 38  Jumping             17588 non-null  int64  \n",
      " 39  Heading             17588 non-null  int64  \n",
      " 40  Shot_Power          17588 non-null  int64  \n",
      " 41  Finishing           17588 non-null  int64  \n",
      " 42  Long_Shots          17588 non-null  int64  \n",
      " 43  Curve               17588 non-null  int64  \n",
      " 44  Freekick_Accuracy   17588 non-null  int64  \n",
      " 45  Penalties           17588 non-null  int64  \n",
      " 46  Volleys             17588 non-null  int64  \n",
      " 47  GK_Positioning      17588 non-null  int64  \n",
      " 48  GK_Diving           17588 non-null  int64  \n",
      " 49  GK_Kicking          17588 non-null  int64  \n",
      " 50  GK_Handling         17588 non-null  int64  \n",
      " 51  GK_Reflexes         17588 non-null  int64  \n",
      "dtypes: float64(3), int64(38), object(11)\n",
      "memory usage: 7.1+ MB\n"
     ]
    }
   ],
   "source": [
    "# Check data types and if any records are missing\n",
    "\n",
    "df.info()"
   ]
  },
  {
   "cell_type": "markdown",
   "metadata": {},
   "source": [
    "- Seems we have missing records in our datasets. However, we can ignore the missing values for now because we are only interested in Age, Weight, and Height values in this dataset."
   ]
  },
  {
   "cell_type": "code",
   "execution_count": 138,
   "metadata": {},
   "outputs": [
    {
     "data": {
      "text/plain": [
       "Nationality               0\n",
       "National_Position     16513\n",
       "National_Kit          16513\n",
       "Club                      0\n",
       "Club_Position             1\n",
       "Club_Kit                  1\n",
       "Club_Joining              1\n",
       "Contract_Expiry           1\n",
       "Rating                    0\n",
       "Height                    0\n",
       "Weight                    0\n",
       "Preffered_Foot            0\n",
       "Birth_Date                0\n",
       "Age                       0\n",
       "Preffered_Position        0\n",
       "Work_Rate                 0\n",
       "Weak_foot                 0\n",
       "Skill_Moves               0\n",
       "Ball_Control              0\n",
       "Dribbling                 0\n",
       "Marking                   0\n",
       "Sliding_Tackle            0\n",
       "Standing_Tackle           0\n",
       "Aggression                0\n",
       "Reactions                 0\n",
       "Attacking_Position        0\n",
       "Interceptions             0\n",
       "Vision                    0\n",
       "Composure                 0\n",
       "Crossing                  0\n",
       "Short_Pass                0\n",
       "Long_Pass                 0\n",
       "Acceleration              0\n",
       "Speed                     0\n",
       "Stamina                   0\n",
       "Strength                  0\n",
       "Balance                   0\n",
       "Agility                   0\n",
       "Jumping                   0\n",
       "Heading                   0\n",
       "Shot_Power                0\n",
       "Finishing                 0\n",
       "Long_Shots                0\n",
       "Curve                     0\n",
       "Freekick_Accuracy         0\n",
       "Penalties                 0\n",
       "Volleys                   0\n",
       "GK_Positioning            0\n",
       "GK_Diving                 0\n",
       "GK_Kicking                0\n",
       "GK_Handling               0\n",
       "GK_Reflexes               0\n",
       "dtype: int64"
      ]
     },
     "execution_count": 138,
     "metadata": {},
     "output_type": "execute_result"
    }
   ],
   "source": [
    "# We can count the missing values in each column of our dataset.\n",
    "\n",
    "df.isnull().sum()"
   ]
  },
  {
   "cell_type": "code",
   "execution_count": 139,
   "metadata": {
    "tags": []
   },
   "outputs": [],
   "source": [
    "# Let us remove 'kg' from the values of weights of the soccer players \n",
    "\n",
    "df_Weight = df[\"Weight\"].str.replace(\"kg\", \"\")"
   ]
  },
  {
   "cell_type": "code",
   "execution_count": 140,
   "metadata": {},
   "outputs": [],
   "source": [
    "# Let us convert the Weight column from string to integer\n",
    "\n",
    "df_Weight = df_Weight.astype({'Weight':'int'})"
   ]
  },
  {
   "cell_type": "code",
   "execution_count": 141,
   "metadata": {},
   "outputs": [],
   "source": [
    "# # Let us remove 'cm' from the values of heights of the soccer players\n",
    "\n",
    "df_Height = df[\"Height\"].str.replace(\"cm\", \"\")"
   ]
  },
  {
   "cell_type": "code",
   "execution_count": 142,
   "metadata": {},
   "outputs": [],
   "source": [
    "# Let us convert the Height column from string to integer\n",
    "\n",
    "df_Height = df_Height.astype({'Height':'int'})"
   ]
  },
  {
   "cell_type": "code",
   "execution_count": 143,
   "metadata": {},
   "outputs": [
    {
     "data": {
      "text/plain": [
       "Nationality               0\n",
       "National_Position     16513\n",
       "National_Kit          16513\n",
       "Club                      0\n",
       "Club_Position             1\n",
       "Club_Kit                  1\n",
       "Club_Joining              1\n",
       "Contract_Expiry           1\n",
       "Rating                    0\n",
       "Height                    0\n",
       "Weight                    0\n",
       "Preffered_Foot            0\n",
       "Birth_Date                0\n",
       "Age                       0\n",
       "Preffered_Position        0\n",
       "Work_Rate                 0\n",
       "Weak_foot                 0\n",
       "Skill_Moves               0\n",
       "Ball_Control              0\n",
       "Dribbling                 0\n",
       "Marking                   0\n",
       "Sliding_Tackle            0\n",
       "Standing_Tackle           0\n",
       "Aggression                0\n",
       "Reactions                 0\n",
       "Attacking_Position        0\n",
       "Interceptions             0\n",
       "Vision                    0\n",
       "Composure                 0\n",
       "Crossing                  0\n",
       "Short_Pass                0\n",
       "Long_Pass                 0\n",
       "Acceleration              0\n",
       "Speed                     0\n",
       "Stamina                   0\n",
       "Strength                  0\n",
       "Balance                   0\n",
       "Agility                   0\n",
       "Jumping                   0\n",
       "Heading                   0\n",
       "Shot_Power                0\n",
       "Finishing                 0\n",
       "Long_Shots                0\n",
       "Curve                     0\n",
       "Freekick_Accuracy         0\n",
       "Penalties                 0\n",
       "Volleys                   0\n",
       "GK_Positioning            0\n",
       "GK_Diving                 0\n",
       "GK_Kicking                0\n",
       "GK_Handling               0\n",
       "GK_Reflexes               0\n",
       "dtype: int64"
      ]
     },
     "execution_count": 143,
     "metadata": {},
     "output_type": "execute_result"
    }
   ],
   "source": [
    "# Seems we have missing records. Let us check again using another method.\n",
    "\n",
    "df.isnull().sum()"
   ]
  },
  {
   "cell_type": "markdown",
   "metadata": {},
   "source": [
    "- Since we are only interested in the average age, average weight and average height, we can ignore the missing values values for now."
   ]
  },
  {
   "cell_type": "markdown",
   "metadata": {},
   "source": [
    "- Let us extract Age, Weight and Height information from the dataset"
   ]
  },
  {
   "cell_type": "code",
   "execution_count": 144,
   "metadata": {},
   "outputs": [
    {
     "data": {
      "text/plain": [
       "Name\n",
       "Cristiano Ronaldo    32\n",
       "Lionel Messi         29\n",
       "Neymar               25\n",
       "Luis Suárez          30\n",
       "Manuel Neuer         31\n",
       "Name: Age, dtype: int64"
      ]
     },
     "execution_count": 144,
     "metadata": {},
     "output_type": "execute_result"
    }
   ],
   "source": [
    "# Here, we extract the ages of soccer players from our dataset\n",
    "\n",
    "df_Age = df['Age']\n",
    "\n",
    "df_Age.head()"
   ]
  },
  {
   "cell_type": "code",
   "execution_count": 145,
   "metadata": {},
   "outputs": [
    {
     "data": {
      "text/plain": [
       "25.460313850352513"
      ]
     },
     "execution_count": 145,
     "metadata": {},
     "output_type": "execute_result"
    }
   ],
   "source": [
    "# Let us find the average age of soccer players\n",
    "\n",
    "df_Age_mean = df_Age.mean()\n",
    "\n",
    "df_Age_mean"
   ]
  },
  {
   "cell_type": "code",
   "execution_count": 146,
   "metadata": {},
   "outputs": [
    {
     "data": {
      "text/plain": [
       "Name\n",
       "Cristiano Ronaldo    80\n",
       "Lionel Messi         72\n",
       "Neymar               68\n",
       "Luis Suárez          85\n",
       "Manuel Neuer         92\n",
       "                     ..\n",
       "Adam Dunbar          82\n",
       "Dylan McGoey         80\n",
       "Tommy Ouldridge      61\n",
       "Mark Foden           80\n",
       "Barry Richardson     77\n",
       "Name: Weight, Length: 17588, dtype: int32"
      ]
     },
     "execution_count": 146,
     "metadata": {},
     "output_type": "execute_result"
    }
   ],
   "source": [
    "df_Weight"
   ]
  },
  {
   "cell_type": "code",
   "execution_count": 147,
   "metadata": {},
   "outputs": [
    {
     "data": {
      "text/plain": [
       "75.25335455992722"
      ]
     },
     "execution_count": 147,
     "metadata": {},
     "output_type": "execute_result"
    }
   ],
   "source": [
    "# Let us find the average weight of soccer players\n",
    "\n",
    "df_Weight.mean()"
   ]
  },
  {
   "cell_type": "code",
   "execution_count": 148,
   "metadata": {},
   "outputs": [
    {
     "data": {
      "text/plain": [
       "Name\n",
       "Cristiano Ronaldo    185\n",
       "Lionel Messi         170\n",
       "Neymar               174\n",
       "Luis Suárez          182\n",
       "Manuel Neuer         193\n",
       "                    ... \n",
       "Adam Dunbar          183\n",
       "Dylan McGoey         185\n",
       "Tommy Ouldridge      173\n",
       "Mark Foden           180\n",
       "Barry Richardson     185\n",
       "Name: Height, Length: 17588, dtype: int32"
      ]
     },
     "execution_count": 148,
     "metadata": {},
     "output_type": "execute_result"
    }
   ],
   "source": [
    "df_Height"
   ]
  },
  {
   "cell_type": "code",
   "execution_count": 149,
   "metadata": {},
   "outputs": [
    {
     "data": {
      "text/plain": [
       "181.10546963838982"
      ]
     },
     "execution_count": 149,
     "metadata": {},
     "output_type": "execute_result"
    }
   ],
   "source": [
    "# Let us find the average height of soccer players in 'cm'\n",
    "\n",
    "df_Height.mean()"
   ]
  },
  {
   "cell_type": "markdown",
   "metadata": {
    "_uuid": "bf35ab5be10e493878da61bd4d3f0b4b71d6c5b4"
   },
   "source": [
    "## **5. Conclusion** <a id=\"5\"></a>"
   ]
  },
  {
   "cell_type": "markdown",
   "metadata": {},
   "source": [
    "- We can establish here that the average age, average height, and average weight of Soccer players based on our data\n",
    "  records are 25 years, 181.1 cm, and 75 kg"
   ]
  },
  {
   "cell_type": "code",
   "execution_count": null,
   "metadata": {},
   "outputs": [],
   "source": []
  }
 ],
 "metadata": {
  "kernelspec": {
   "display_name": "Python 3 (ipykernel)",
   "language": "python",
   "name": "python3"
  },
  "language_info": {
   "codemirror_mode": {
    "name": "ipython",
    "version": 3
   },
   "file_extension": ".py",
   "mimetype": "text/x-python",
   "name": "python",
   "nbconvert_exporter": "python",
   "pygments_lexer": "ipython3",
   "version": "3.8.4"
  }
 },
 "nbformat": 4,
 "nbformat_minor": 4
}
